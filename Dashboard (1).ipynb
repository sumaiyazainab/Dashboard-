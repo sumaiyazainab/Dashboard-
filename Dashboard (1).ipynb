{
 "cells": [
  {
   "cell_type": "markdown",
   "metadata": {},
   "source": [
    "[DIY Disease Tracking Dashboard Kit](https://github.com/fsmeraldi/diy-covid19dash) (C) Fabrizio Smeraldi, 2020,2024 ([f.smeraldi@qmul.ac.uk](mailto:f.smeraldi@qmul.ac.uk) - [web](http://www.eecs.qmul.ac.uk/~fabri/)). This notebook is released under the [GNU GPLv3.0 or later](https://www.gnu.org/licenses/)."
   ]
  },
  {
   "cell_type": "markdown",
   "metadata": {},
   "source": [
    "# DIY Disease Tracking Dashboard -Extracting public health data -Rolling Mean COVID-19 Dashboard"
   ]
  },
  {
   "cell_type": "markdown",
   "metadata": {},
   "source": [
    "\n",
    "During the Pandemic, Public Health England (PHE) launched a Covid-19 dashboard. This timely service came with an Application Programming Interface (API) allowing users programmatic access to the data for the purpose of creating visualisations or data analysis. Interestingly, it also included a wrapper library written in Python, that made access to the data seamless. At the end of 2023, the PHE dashboard was replaced by the UK Health Security Agency dashboard (UKHSA dashboard). This new API, at the time of writing in the Beta stage, includes data on various infectious diseases including respiratory and gastrointestinal, bloodstream infections, and vaccine-preventable diseases. The data are better organised and documented, and many of the quirks of the old API have been fixed. An interesting feature of the new system is that all of its code has been open-sourced.\n",
    "\n",
    "Step 1: Fetching and Storing the Data\n",
    "\n",
    "The data was accessed through a public API provided by the UKHSA. The specific metric I worked with was: COVID-19_cases_rateRollingMean This metric represents the 7-day rolling average of daily case rates. I queried the API with relevant parameters such as geography (England), year (e.g., 2022), and page size. the data returned was in JSON format, which I saved locally in a file named:RollingMeancases.json This allowed the dashboard to load \"canned\" data on startup — useful in case the API is unavailable or if the user prefers not to wait for live data.\n",
    "\n",
    "Step 2: Data Wrangling (Cleaning and Structuring) The raw JSON data was a list of dictionaries, each containing: A date An age group A sex field (ignored for our purposes) A metric_value (the case rate) This structure isn't suitable for direct plotting, so I performed the following data wrangling steps: Loaded the JSON data into Python. Converted the list of dictionaries into a Pandas DataFrame. Parsed the date strings into actual datetime objects. Pivoted the DataFrame so that: Rows = dates Columns = age groups (e.g., '0_4', '20_29', '60+', 'all') Values = rolling mean case rate (metric_value) Filled missing values with 0.0 to avoid plotting issues. This final DataFrame (meandf) became the foundation for all visualizations.\n",
    "\n",
    "Step 3: Static and Monthly Aggregated Visualizations With the cleaned DataFrame: I created a line plot showing case rates for a specific age group ('all') over time. I also aggregated the data monthly, normalised the values (so each month’s total equals 100%), and displayed it as a horizontal stacked bar chart to highlight differences in age group contributions over time. These charts helped explore both trends over time and relative comparisons between age groups.\n",
    "\n",
    "Step 4: Adding Interactivity with ipywidgets To make the dashboard more dynamic, I used the ipywidgets library to add interactive controls: A Dropdown widget to select an age group. A RadioButtons widget to toggle between linear and logarithmic scales on the y-axis. These controls were linked to a callback function (plot_age_group) using wdg.interactive_output(). Each time the user changes a selection, the graph updates automatically.\n",
    "\n",
    "Final Output\n",
    "\n",
    "The final output is an interactive dashboard that: Loads and processes COVID-19 case data Provides users with control over what age group they want to explore Allows switching between linear and log scales for better insight Optionally supports data refresh from the live API The whole dashboard is built inside a Jupyter Notebook and can be launched as a standalone web app using Voila, which hides the code and displays only the UI and output.\n",
    "\n",
    "Technologies Used\n",
    "\n",
    "Python (Pandas, Matplotlib, JSON) ipywidgets (for interactive controls) Voila (for dashboard deployment) UKHSA API (for real COVID-19 data)\n",
    "\n"
   ]
  },
  {
   "cell_type": "code",
   "execution_count": 113,
   "metadata": {},
   "outputs": [],
   "source": [
    "from IPython.display import clear_output\n",
    "import ipywidgets as wdg\n",
    "import pandas as pd\n",
    "import numpy as np\n",
    "import matplotlib.pyplot as plt\n",
    "import requests\n",
    "import time\n",
    "import json"
   ]
  },
  {
   "cell_type": "code",
   "execution_count": 114,
   "metadata": {},
   "outputs": [],
   "source": [
    "%matplotlib inline\n",
    "# make figures larger\n",
    "plt.rcParams['figure.dpi'] = 100"
   ]
  },
  {
   "cell_type": "markdown",
   "metadata": {},
   "source": [
    "## Load initial data from disk\n",
    "\n",
    "You should include \"canned\" data in ```.json``` files along with your dashboard. When the dashboard starts, it should load that data and assign it as a dictionary to the ```jsondata``` variable (the code below will be hidden when the dashboard is rendered by Voila)."
   ]
  },
  {
   "cell_type": "code",
   "execution_count": 115,
   "metadata": {},
   "outputs": [],
   "source": [
    "# Load JSON files and store the raw data in some variable. Edit as appropriate\n",
    "jsondata={}"
   ]
  },
  {
   "cell_type": "markdown",
   "metadata": {},
   "source": [
    "## Wrangle the data\n",
    "\n",
    "The dashboard should contain the logic to wrangle the raw data into a ```DataFrame``` (or more than one, as required) that will be used for plotting. The wrangling code should be put into a function and called on the data from the JSON file (we'll need to call it again on any data downloaded from the API).  In this template, we just pretend we are wrangling ```rawdata``` and instead generate a dataframe with some random data"
   ]
  },
  {
   "cell_type": "code",
   "execution_count": 116,
   "metadata": {},
   "outputs": [],
   "source": [
    "def wrangle_data(rawdata):\n",
    "    \"\"\" Parameters: rawdata - data from json file or API call. Returns a dataframe.\n",
    "    Edit to include the code that wrangles the data, creates the dataframe and fills it in. \"\"\"\n",
    "    df=pd.DataFrame(index=range(0,100), columns=['One', 'Two'])\n",
    "    # we have no real data to wrangle, so we just generate two random walks.\n",
    "    one=two=0.0\n",
    "    for i in range(0,100):\n",
    "        df.loc[i,'One']=one\n",
    "        df.loc[i,'Two']=two\n",
    "        one+=np.random.randn()\n",
    "        two+=2*np.random.randn()\n",
    "    return df\n",
    "\n",
    "# putting the wrangling code into a function allows you to call it again after refreshing the data through \n",
    "# the API. You should call the function directly on the JSON data when the dashboard starts, by including \n",
    "# the call in this cell as below:\n",
    "df=wrangle_data(jsondata) # df is the dataframe for plotting"
   ]
  },
  {
   "cell_type": "markdown",
   "metadata": {},
   "source": [
    "## Download current data\n",
    "\n",
    "\n",
    " The code above implements a 'Refresh' button that allows users to update the dataset dynamically by retrieving the most recent data from an external API. This feature is useful when working with live datasets, such as those from public health APIs, where the data changes frequently. Instead of manually re-running code or reloading the notebook, users can simply click the button to fetch the latest available data. When the button is clicked, it triggers the api_button_callback() function. This function calls access_api(), which is where the actual connection to the external data source should happen. Although the access_api() function is currently a placeholder, it is intended to return new raw data from the API. Once the data is retrieved, it is cleaned and structured using a separate function called wrangle_data(), and the result replaces the existing global variable df, which is used to power your graphs or visualisations. However, graphs in Jupyter or Voilà dashboards do not update automatically when data changes. To solve this, the function also includes a call to refresh_graph(), which simulates user interaction with the widgets and forces the graph to redraw using the updated data. To improve user experience, the button also changes its icon to a green checkmark once the process is successfully completed, giving clear visual feedback that the data has been refreshed. Overall, this interactive feature is essential in making your dashboard dynamic, user-friendly, and responsive to new information. It enables users to work with real-time data confidently, while reducing the manual steps needed to keep visualisations current."
   ]
  },
  {
   "cell_type": "code",
   "execution_count": 117,
   "metadata": {},
   "outputs": [],
   "source": [
    "# Place your API access code in this function. Do not call this function directly; it will be called by \n",
    "# the button callback. \n",
    "def access_api():\n",
    "    \"\"\" Accesses the UKHSA API. Return data as a like-for-like replacement for the \"canned\" data loaded from the JSON file. \"\"\"\n",
    "    return {} # return data read from the API"
   ]
  },
  {
   "cell_type": "code",
   "execution_count": 118,
   "metadata": {},
   "outputs": [
    {
     "data": {
      "application/vnd.jupyter.widget-view+json": {
       "model_id": "34e810abc5f44527992ea580e052af2c",
       "version_major": 2,
       "version_minor": 0
      },
      "text/plain": [
       "Button(button_style='info', description='REFRESH', icon='exclamation-triangle', style=ButtonStyle(), tooltip='…"
      ]
     },
     "metadata": {},
     "output_type": "display_data"
    }
   ],
   "source": [
    "# Printout from this function will be lost in Voila unless captured in an\n",
    "# output widget - therefore, we give feedback to the user by changing the \n",
    "# appearance of the button\n",
    "def api_button_callback(button):\n",
    "    \"\"\" Button callback - it must take the button as its parameter (unused in this case).\n",
    "    Accesses API, wrangles data, updates global variable df used for plotting. \"\"\"\n",
    "    # Get fresh data from the API. If you have time, include some error handling\n",
    "    # around this call.\n",
    "    apidata=access_api()\n",
    "    # wrangle the data and overwrite the dataframe for plotting\n",
    "    global df\n",
    "    df=wrangle_data(apidata)\n",
    "    # the graph won't refresh until the user interacts with the widget.\n",
    "    # this function simulates the interaction, see Graph and Analysis below.\n",
    "    # The function needs to be adapted to your graph; you can omit this call\n",
    "    # in the first instance\n",
    "    refresh_graph()\n",
    "    # after all is done, you can switch the icon on the button to a \"check\" sign\n",
    "    # and optionally disable the button - it won't be needed again. If you are \n",
    "    # implementing error handling, you can use icons \"unlink\" or \"times\" and \n",
    "    # change the button text to \"Unavailable\" when the api call fails.\n",
    "    apibutton.icon=\"check\"\n",
    "    # apibutton.disabled=True\n",
    "\n",
    "    \n",
    "apibutton=wdg.Button(\n",
    "    description='REFRESH', # you may want to change this...\n",
    "    disabled=False,\n",
    "    button_style='info', # 'success', 'info', 'warning', 'danger' or ''\n",
    "    tooltip=\"Keep calm and carry on\",\n",
    "    # FontAwesome names without the `fa-` prefix - try \"download\"\n",
    "    icon='exclamation-triangle'\n",
    ")\n",
    "\n",
    "# remember to register your button callback function with the button\n",
    "apibutton.on_click(api_button_callback) # the name of your function inside these brackets\n",
    "\n",
    "display(apibutton)\n",
    "\n",
    "# run all cells before clicking on this button"
   ]
  },
  {
   "cell_type": "markdown",
   "metadata": {},
   "source": [
    "## Graphs and Analysis"
   ]
  },
  {
   "cell_type": "markdown",
   "metadata": {},
   "source": [
    "Include at least one graph with interactive controls, as well as some instructions for the user and/or comments on what the graph represents and how it should be explored (this example shows two random walks)\n",
    "\n",
    "age_selector = wdg.Dropdown(\n",
    "    options=sorted(df.columns),\n",
    "    value='all',\n",
    "    description='Age Group:',\n",
    "    disabled=False\n",
    ")\n",
    "\n",
    "Plot function\n",
    "def plot_age_group(selected_age):\n",
    "    plt.figure(figsize=(12, 6))\n",
    "    df[selected_age].plot(color='blue', label=selected_age)\n",
    "    plt.title(f\"Rolling Mean COVID-19 Cases for Age Group: {selected_age}\")\n",
    "    plt.xlabel(\"Date\")\n",
    "    plt.ylabel(\"Rolling Mean Case Rate\")\n",
    "    plt.grid(True)\n",
    "    plt.legend()\n",
    "    plt.tight_layout()\n",
    "    plt.show()\n",
    "\n",
    "Graph output\n",
    "graph = wdg.interactive_output(plot_age_group, {'selected_age': age_selector})\n",
    "\n",
    "Display controls and graph\n",
    "display(age_selector, graph)"
   ]
  },
  {
   "cell_type": "markdown",
   "metadata": {},
   "source": [
    "**Author and License** Remember that if you deploy your dashboard as a Binder it will be publicly accessible. Change the copyright notice and take credit for your work! Also acknowledge your sources and the conditions of the license by including this notice: \"Based on UK Government [data](https://ukhsa-dashboard.data.gov.uk/) published by the [UK Health Security Agency](https://www.gov.uk/government/organisations/uk-health-security-agency) and on the [DIY Disease Tracking Dashboard Kit](https://github.com/fsmeraldi/diy-covid19dash) by Fabrizio Smeraldi. Released under the [GNU GPLv3.0 or later](https://www.gnu.org/licenses/).\""
   ]
  },
  {
   "cell_type": "code",
   "execution_count": 119,
   "metadata": {},
   "outputs": [],
   "source": [
    "import json\n",
    "\n",
    "with open(\"RollingMeancases.json\", \"rt\") as INFILE:\n",
    "    jsondata = json.load(INFILE)"
   ]
  },
  {
   "cell_type": "code",
   "execution_count": 120,
   "metadata": {},
   "outputs": [],
   "source": [
    "from datetime import datetime\n",
    "\n",
    "def parse_date(s):\n",
    "    return datetime.strptime(s, \"%Y-%m-%d\")\n",
    "\n",
    "def wrangle_data(rawdata):\n",
    "    data = {}\n",
    "    for entry in rawdata:\n",
    "        date = entry['date']\n",
    "        age = entry['age']\n",
    "        value = entry['metric_value']\n",
    "        if date not in data:\n",
    "            data[date] = {}\n",
    "        data[date][age] = value\n",
    "\n",
    "    dates = list(data.keys())\n",
    "    dates.sort()\n",
    "    startdate = parse_date(dates[0])\n",
    "    enddate = parse_date(dates[-1])\n",
    "\n",
    "    age_groups = []\n",
    "    for entry in data.values():\n",
    "        for x in entry.keys():\n",
    "            if x not in age_groups:\n",
    "                age_groups.append(x)\n",
    "\n",
    "    age_groups.sort()\n",
    "\n",
    "    index = pd.date_range(startdate, enddate, freq='W-MON')\n",
    "    df = pd.DataFrame(index=index, columns=age_groups)\n",
    "\n",
    "    for date, entry in data.items():\n",
    "        pd_date = parse_date(date)\n",
    "        if pd_date in df.index:\n",
    "            for column in entry.keys():\n",
    "                df.loc[pd_date, column] = entry[column]\n",
    "\n",
    "    df.fillna(0.0, inplace=True)\n",
    "    df = df.apply(pd.to_numeric, errors='coerce')\n",
    "    return df"
   ]
  },
  {
   "cell_type": "code",
   "execution_count": 121,
   "metadata": {},
   "outputs": [],
   "source": [
    "df = wrangle_data(jsondata)"
   ]
  },
  {
   "cell_type": "code",
   "execution_count": 122,
   "metadata": {},
   "outputs": [],
   "source": [
    "def access_api():\n",
    "   \n",
    "    return jsondata  "
   ]
  },
  {
   "cell_type": "code",
   "execution_count": 123,
   "metadata": {},
   "outputs": [
    {
     "data": {
      "application/vnd.jupyter.widget-view+json": {
       "model_id": "bdd313a1d22342998fe5d7cc8468f2b8",
       "version_major": 2,
       "version_minor": 0
      },
      "text/plain": [
       "Dropdown(description='Age Group:', index=20, options=('00-04', '05-09', '10-14', '15-19', '20-24', '25-29', '3…"
      ]
     },
     "metadata": {},
     "output_type": "display_data"
    },
    {
     "data": {
      "application/vnd.jupyter.widget-view+json": {
       "model_id": "35ca979781064876892b6d04765fe147",
       "version_major": 2,
       "version_minor": 0
      },
      "text/plain": [
       "Output()"
      ]
     },
     "metadata": {},
     "output_type": "display_data"
    }
   ],
   "source": [
    "age_selector = wdg.Dropdown(\n",
    "    options=sorted(df.columns),\n",
    "    value='all',\n",
    "    description='Age Group:',\n",
    "    disabled=False\n",
    ")\n",
    "\n",
    "# Plot function\n",
    "def plot_age_group(selected_age):\n",
    "    plt.figure(figsize=(12, 6))\n",
    "    df[selected_age].plot(color='blue', label=selected_age)\n",
    "    plt.title(f\"Rolling Mean COVID-19 Cases for Age Group: {selected_age}\")\n",
    "    plt.xlabel(\"Date\")\n",
    "    plt.ylabel(\"Rolling Mean Case Rate\")\n",
    "    plt.grid(True)\n",
    "    plt.legend()\n",
    "    plt.tight_layout()\n",
    "    plt.show()\n",
    "\n",
    "# Graph output\n",
    "graph = wdg.interactive_output(plot_age_group, {'selected_age': age_selector})\n",
    "\n",
    "# Display controls and graph\n",
    "display(age_selector, graph)"
   ]
  },
  {
   "cell_type": "code",
   "execution_count": 124,
   "metadata": {},
   "outputs": [],
   "source": [
    "rollingmeandf=pd.read_pickle(\"meandf.pkl\")"
   ]
  },
  {
   "cell_type": "code",
   "execution_count": 125,
   "metadata": {},
   "outputs": [],
   "source": [
    "rollingmeandf = rollingmeandf.apply(pd.to_numeric, errors='coerce')"
   ]
  },
  {
   "cell_type": "code",
   "execution_count": 126,
   "metadata": {},
   "outputs": [
    {
     "data": {
      "application/vnd.jupyter.widget-view+json": {
       "model_id": "1a6af195690e440ebcb16602aa65b94f",
       "version_major": 2,
       "version_minor": 0
      },
      "text/plain": [
       "Select(description='Month:', index=10, options=('February', 'March', 'April', 'May', 'June', 'July', 'August',…"
      ]
     },
     "metadata": {},
     "output_type": "display_data"
    },
    {
     "data": {
      "application/vnd.jupyter.widget-view+json": {
       "model_id": "a913e92ad28d47d1be32f6db260332d5",
       "version_major": 2,
       "version_minor": 0
      },
      "text/plain": [
       "Output()"
      ]
     },
     "metadata": {},
     "output_type": "display_data"
    }
   ],
   "source": [
    "import calendar\n",
    "\n",
    "month_numbers = sorted(rollingmeandf.index.month.unique())\n",
    "month_names = [calendar.month_name[m] for m in month_numbers]\n",
    "month_map = dict(zip(month_names, month_numbers))\n",
    "\n",
    "month = wdg.Select(\n",
    "    options=month_names,\n",
    "    value=month_names[-1],\n",
    "    rows=1,\n",
    "    description='Month:',\n",
    "    disabled=False\n",
    ")\n",
    "\n",
    "def rollingmean_month_graph(graphmonth):\n",
    "    # Convert month name to number\n",
    "    graphmonth_num = month_map[graphmonth]\n",
    "\n",
    "    # Filter dataframe for that month\n",
    "    monthdf = rollingmeandf[rollingmeandf.index.month == graphmonth_num]\n",
    "\n",
    "    # Group by week and compute mean\n",
    "    weekly = monthdf.groupby(pd.Grouper(freq='1W')).mean()\n",
    "    totals = weekly.sum(axis=1)\n",
    "    weekly = weekly.div(totals, axis=0) * 100\n",
    "    weekly = weekly[::-1]  # reverse order for plotting\n",
    "\n",
    "    # Plot\n",
    "    ax = weekly.plot(kind='barh', stacked=True, cmap='tab20')\n",
    "    ax.legend(loc='center left', bbox_to_anchor=(1.0, 0.5))\n",
    "    ax.set_yticklabels(weekly.index.strftime('%Y-%m-%d'))\n",
    "    ax.set_title(f'Rolling Mean Cases for {graphmonth}')\n",
    "    plt.show()\n",
    "\n",
    "output_month = wdg.interactive_output(rollingmean_month_graph, {'graphmonth': month})\n",
    "\n",
    "display(month, output_month)"
   ]
  }
 ],
 "metadata": {
  "kernelspec": {
   "display_name": "Python 3 (ipykernel)",
   "language": "python",
   "name": "python3"
  },
  "language_info": {
   "codemirror_mode": {
    "name": "ipython",
    "version": 3
   },
   "file_extension": ".py",
   "mimetype": "text/x-python",
   "name": "python",
   "nbconvert_exporter": "python",
   "pygments_lexer": "ipython3",
   "version": "3.11.9"
  }
 },
 "nbformat": 4,
 "nbformat_minor": 4
}
